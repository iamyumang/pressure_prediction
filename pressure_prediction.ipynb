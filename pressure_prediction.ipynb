{
  "nbformat": 4,
  "nbformat_minor": 0,
  "metadata": {
    "colab": {
      "name": "pressure.ipynb",
      "provenance": [],
      "collapsed_sections": []
    },
    "kernelspec": {
      "name": "python3",
      "display_name": "Python 3"
    }
  },
  "cells": [
    {
      "cell_type": "code",
      "metadata": {
        "id": "us_4x09zDAJE",
        "colab_type": "code",
        "colab": {}
      },
      "source": [
        "import numpy as np\n",
        "import pandas as pd\n",
        "import matplotlib.pyplot as plt\n",
        "from fancyimpute import KNN\n",
        "from sklearn.impute import KNNImputer\n",
        "import seaborn as sns\n",
        "from sklearn.preprocessing import OneHotEncoder\n",
        "import random\n",
        "from sklearn.model_selection import train_test_split #used to split dataset into train and test\n",
        "from sklearn.metrics import mean_squared_error # used to calculate MSE\n",
        "from sklearn.metrics import r2_score # used to calculate r square\n",
        "from sklearn.linear_model import LinearRegression # For linear regression\n",
        "from sklearn.tree import DecisionTreeRegressor # For Decision Tree\n",
        "from sklearn.ensemble import RandomForestRegressor # For RandomForest\n",
        "from sklearn import metrics"
      ],
      "execution_count": 0,
      "outputs": []
    },
    {
      "cell_type": "code",
      "metadata": {
        "id": "8bcO11JhDFQr",
        "colab_type": "code",
        "colab": {}
      },
      "source": [
        "train = pd.read_csv(\"https://dataset-upload.s3-ap-southeast-1.amazonaws.com/Expander_data.csv\")"
      ],
      "execution_count": 0,
      "outputs": []
    },
    {
      "cell_type": "code",
      "metadata": {
        "id": "UN8Aaa20DkYX",
        "colab_type": "code",
        "outputId": "1e14ba08-f97e-451c-fd75-233534cb31a7",
        "colab": {
          "base_uri": "https://localhost:8080/",
          "height": 306
        }
      },
      "source": [
        "train.head()"
      ],
      "execution_count": 99,
      "outputs": [
        {
          "output_type": "execute_result",
          "data": {
            "text/html": [
              "<div>\n",
              "<style scoped>\n",
              "    .dataframe tbody tr th:only-of-type {\n",
              "        vertical-align: middle;\n",
              "    }\n",
              "\n",
              "    .dataframe tbody tr th {\n",
              "        vertical-align: top;\n",
              "    }\n",
              "\n",
              "    .dataframe thead th {\n",
              "        text-align: right;\n",
              "    }\n",
              "</style>\n",
              "<table border=\"1\" class=\"dataframe\">\n",
              "  <thead>\n",
              "    <tr style=\"text-align: right;\">\n",
              "      <th></th>\n",
              "      <th>Timestamp</th>\n",
              "      <th>Suction Pressure (psig)</th>\n",
              "      <th>Suction Temperature (F)</th>\n",
              "      <th>Total Flow (gpm)</th>\n",
              "      <th>Speed (rpm)</th>\n",
              "      <th>By-pass Valve Position (%)</th>\n",
              "      <th>Discharge Pressure (psig)</th>\n",
              "      <th>Discharge Temperature (F)</th>\n",
              "      <th>Run Status</th>\n",
              "    </tr>\n",
              "  </thead>\n",
              "  <tbody>\n",
              "    <tr>\n",
              "      <th>0</th>\n",
              "      <td>04/01/20 21:20</td>\n",
              "      <td>596.100853</td>\n",
              "      <td>-229.436683</td>\n",
              "      <td>7925.800487</td>\n",
              "      <td>2999.411045</td>\n",
              "      <td>6.0</td>\n",
              "      <td>226.044931</td>\n",
              "      <td>-227.614448</td>\n",
              "      <td>NaN</td>\n",
              "    </tr>\n",
              "    <tr>\n",
              "      <th>1</th>\n",
              "      <td>04/01/20 21:20</td>\n",
              "      <td>596.838217</td>\n",
              "      <td>-230.453708</td>\n",
              "      <td>8085.917724</td>\n",
              "      <td>2989.706617</td>\n",
              "      <td>6.0</td>\n",
              "      <td>217.150974</td>\n",
              "      <td>-228.668636</td>\n",
              "      <td>NaN</td>\n",
              "    </tr>\n",
              "    <tr>\n",
              "      <th>2</th>\n",
              "      <td>04/01/20 21:20</td>\n",
              "      <td>596.468895</td>\n",
              "      <td>-229.545356</td>\n",
              "      <td>7902.175243</td>\n",
              "      <td>3006.331679</td>\n",
              "      <td>6.0</td>\n",
              "      <td>226.054086</td>\n",
              "      <td>-227.755324</td>\n",
              "      <td>NaN</td>\n",
              "    </tr>\n",
              "    <tr>\n",
              "      <th>3</th>\n",
              "      <td>04/01/20 21:20</td>\n",
              "      <td>603.568271</td>\n",
              "      <td>-230.309438</td>\n",
              "      <td>7991.808959</td>\n",
              "      <td>3010.487486</td>\n",
              "      <td>6.0</td>\n",
              "      <td>226.016182</td>\n",
              "      <td>-228.489113</td>\n",
              "      <td>NaN</td>\n",
              "    </tr>\n",
              "    <tr>\n",
              "      <th>4</th>\n",
              "      <td>04/01/20 21:21</td>\n",
              "      <td>595.407372</td>\n",
              "      <td>-229.767969</td>\n",
              "      <td>7871.560747</td>\n",
              "      <td>2986.665518</td>\n",
              "      <td>6.0</td>\n",
              "      <td>227.769383</td>\n",
              "      <td>-227.971795</td>\n",
              "      <td>NaN</td>\n",
              "    </tr>\n",
              "  </tbody>\n",
              "</table>\n",
              "</div>"
            ],
            "text/plain": [
              "        Timestamp  ...  Run Status\n",
              "0  04/01/20 21:20  ...         NaN\n",
              "1  04/01/20 21:20  ...         NaN\n",
              "2  04/01/20 21:20  ...         NaN\n",
              "3  04/01/20 21:20  ...         NaN\n",
              "4  04/01/20 21:21  ...         NaN\n",
              "\n",
              "[5 rows x 9 columns]"
            ]
          },
          "metadata": {
            "tags": []
          },
          "execution_count": 99
        }
      ]
    },
    {
      "cell_type": "markdown",
      "metadata": {
        "id": "4OxeT5SxBiQS",
        "colab_type": "text"
      },
      "source": [
        "**Missing value analysis**"
      ]
    },
    {
      "cell_type": "code",
      "metadata": {
        "id": "i5EAA2z0DtCr",
        "colab_type": "code",
        "outputId": "8985f7fe-655d-4f88-91d7-89a5b7080bcc",
        "colab": {
          "base_uri": "https://localhost:8080/",
          "height": 187
        }
      },
      "source": [
        "train.isnull().sum()/len(train) *100"
      ],
      "execution_count": 100,
      "outputs": [
        {
          "output_type": "execute_result",
          "data": {
            "text/plain": [
              "Timestamp                       0.0\n",
              "Suction Pressure (psig)         0.0\n",
              "Suction Temperature (F)         0.0\n",
              "Total Flow (gpm)                0.0\n",
              "Speed (rpm)                     0.0\n",
              "By-pass Valve Position (%)      0.0\n",
              "Discharge Pressure (psig)       0.0\n",
              "Discharge Temperature (F)       0.0\n",
              "Run Status                    100.0\n",
              "dtype: float64"
            ]
          },
          "metadata": {
            "tags": []
          },
          "execution_count": 100
        }
      ]
    },
    {
      "cell_type": "code",
      "metadata": {
        "id": "ENcv54G8E1o9",
        "colab_type": "code",
        "colab": {}
      },
      "source": [
        "train.drop([\"Run Status\"], axis = 1, inplace= True)"
      ],
      "execution_count": 0,
      "outputs": []
    },
    {
      "cell_type": "code",
      "metadata": {
        "id": "rX2IuPaTG4Mp",
        "colab_type": "code",
        "colab": {}
      },
      "source": [
        "train[\"Timestamp\"] = pd.to_datetime(train.Timestamp)"
      ],
      "execution_count": 0,
      "outputs": []
    },
    {
      "cell_type": "code",
      "metadata": {
        "id": "Z30ZkFTpHXmJ",
        "colab_type": "code",
        "outputId": "93cf5fa4-b102-4242-9356-8fc05d912857",
        "colab": {
          "base_uri": "https://localhost:8080/",
          "height": 306
        }
      },
      "source": [
        "train.head()"
      ],
      "execution_count": 103,
      "outputs": [
        {
          "output_type": "execute_result",
          "data": {
            "text/html": [
              "<div>\n",
              "<style scoped>\n",
              "    .dataframe tbody tr th:only-of-type {\n",
              "        vertical-align: middle;\n",
              "    }\n",
              "\n",
              "    .dataframe tbody tr th {\n",
              "        vertical-align: top;\n",
              "    }\n",
              "\n",
              "    .dataframe thead th {\n",
              "        text-align: right;\n",
              "    }\n",
              "</style>\n",
              "<table border=\"1\" class=\"dataframe\">\n",
              "  <thead>\n",
              "    <tr style=\"text-align: right;\">\n",
              "      <th></th>\n",
              "      <th>Timestamp</th>\n",
              "      <th>Suction Pressure (psig)</th>\n",
              "      <th>Suction Temperature (F)</th>\n",
              "      <th>Total Flow (gpm)</th>\n",
              "      <th>Speed (rpm)</th>\n",
              "      <th>By-pass Valve Position (%)</th>\n",
              "      <th>Discharge Pressure (psig)</th>\n",
              "      <th>Discharge Temperature (F)</th>\n",
              "    </tr>\n",
              "  </thead>\n",
              "  <tbody>\n",
              "    <tr>\n",
              "      <th>0</th>\n",
              "      <td>2020-04-01 21:20:00</td>\n",
              "      <td>596.100853</td>\n",
              "      <td>-229.436683</td>\n",
              "      <td>7925.800487</td>\n",
              "      <td>2999.411045</td>\n",
              "      <td>6.0</td>\n",
              "      <td>226.044931</td>\n",
              "      <td>-227.614448</td>\n",
              "    </tr>\n",
              "    <tr>\n",
              "      <th>1</th>\n",
              "      <td>2020-04-01 21:20:00</td>\n",
              "      <td>596.838217</td>\n",
              "      <td>-230.453708</td>\n",
              "      <td>8085.917724</td>\n",
              "      <td>2989.706617</td>\n",
              "      <td>6.0</td>\n",
              "      <td>217.150974</td>\n",
              "      <td>-228.668636</td>\n",
              "    </tr>\n",
              "    <tr>\n",
              "      <th>2</th>\n",
              "      <td>2020-04-01 21:20:00</td>\n",
              "      <td>596.468895</td>\n",
              "      <td>-229.545356</td>\n",
              "      <td>7902.175243</td>\n",
              "      <td>3006.331679</td>\n",
              "      <td>6.0</td>\n",
              "      <td>226.054086</td>\n",
              "      <td>-227.755324</td>\n",
              "    </tr>\n",
              "    <tr>\n",
              "      <th>3</th>\n",
              "      <td>2020-04-01 21:20:00</td>\n",
              "      <td>603.568271</td>\n",
              "      <td>-230.309438</td>\n",
              "      <td>7991.808959</td>\n",
              "      <td>3010.487486</td>\n",
              "      <td>6.0</td>\n",
              "      <td>226.016182</td>\n",
              "      <td>-228.489113</td>\n",
              "    </tr>\n",
              "    <tr>\n",
              "      <th>4</th>\n",
              "      <td>2020-04-01 21:21:00</td>\n",
              "      <td>595.407372</td>\n",
              "      <td>-229.767969</td>\n",
              "      <td>7871.560747</td>\n",
              "      <td>2986.665518</td>\n",
              "      <td>6.0</td>\n",
              "      <td>227.769383</td>\n",
              "      <td>-227.971795</td>\n",
              "    </tr>\n",
              "  </tbody>\n",
              "</table>\n",
              "</div>"
            ],
            "text/plain": [
              "            Timestamp  ...  Discharge Temperature (F)\n",
              "0 2020-04-01 21:20:00  ...                -227.614448\n",
              "1 2020-04-01 21:20:00  ...                -228.668636\n",
              "2 2020-04-01 21:20:00  ...                -227.755324\n",
              "3 2020-04-01 21:20:00  ...                -228.489113\n",
              "4 2020-04-01 21:21:00  ...                -227.971795\n",
              "\n",
              "[5 rows x 8 columns]"
            ]
          },
          "metadata": {
            "tags": []
          },
          "execution_count": 103
        }
      ]
    },
    {
      "cell_type": "code",
      "metadata": {
        "id": "cWMTQzEaH3h6",
        "colab_type": "code",
        "colab": {}
      },
      "source": [
        "cnames = [\"Suction Pressure (psig)\", \"Suction Temperature (F)\", \"Total Flow (gpm)\", \"Speed (rpm)\", \"By-pass Valve Position (%)\", \"Discharge Temperature (F)\"]"
      ],
      "execution_count": 0,
      "outputs": []
    },
    {
      "cell_type": "markdown",
      "metadata": {
        "id": "FyxLqr3BAdEV",
        "colab_type": "text"
      },
      "source": [
        "**Outlier Analysis**"
      ]
    },
    {
      "cell_type": "code",
      "metadata": {
        "id": "GcGb2YEoIbk4",
        "colab_type": "code",
        "outputId": "b131af3e-2fa6-4b5f-b3ff-b43e363be748",
        "colab": {
          "base_uri": "https://localhost:8080/",
          "height": 1000
        }
      },
      "source": [
        "%matplotlib inline\n",
        "for i in cnames:\n",
        "  plt.figure(i)\n",
        "  sns.boxplot(train[i])"
      ],
      "execution_count": 105,
      "outputs": [
        {
          "output_type": "display_data",
          "data": {
            "image/png": "[encoded data removed]",
            "text/plain": [
              "<Figure size 432x288 with 1 Axes>"
            ]
          },
          "metadata": {
            "tags": []
          }
        },
        {
          "output_type": "display_data",
          "data": {
            "image/png": "[encoded data removed]",
            "text/plain": [
              "<Figure size 432x288 with 1 Axes>"
            ]
          },
          "metadata": {
            "tags": []
          }
        },
        {
          "output_type": "display_data",
          "data": {
            "image/png": "[encoded data removed]",
            "text/plain": [
              "<Figure size 432x288 with 1 Axes>"
            ]
          },
          "metadata": {
            "tags": []
          }
        },
        {
          "output_type": "display_data",
          "data": {
            "image/png": "[encoded data removed]",
            "text/plain": [
              "<Figure size 432x288 with 1 Axes>"
            ]
          },
          "metadata": {
            "tags": []
          }
        },
        {
          "output_type": "display_data",
          "data": {
            "image/png": "[encoded data removed]",
            "text/plain": [
              "<Figure size 432x288 with 1 Axes>"
            ]
          },
          "metadata": {
            "tags": []
          }
        },
        {
          "output_type": "display_data",
          "data": {
            "image/png": "[encoded data removed]",
            "text/plain": [
              "<Figure size 432x288 with 1 Axes>"
            ]
          },
          "metadata": {
            "tags": []
          }
        }
      ]
    },
    {
      "cell_type": "markdown",
      "metadata": {
        "id": "JZeznjJKB1C1",
        "colab_type": "text"
      },
      "source": [
        "**Splitting Date and Time for further analysis**"
      ]
    },
    {
      "cell_type": "code",
      "metadata": {
        "id": "3fYjvkxbN-Nv",
        "colab_type": "code",
        "colab": {}
      },
      "source": [
        "train['month'] = train[\"Timestamp\"].dt.month\n",
        "train['date'] = train[\"Timestamp\"].dt.day\n",
        "train['hour'] = train[\"Timestamp\"].dt.hour\n",
        "train['minute'] = train[\"Timestamp\"].dt.minute"
      ],
      "execution_count": 0,
      "outputs": []
    },
    {
      "cell_type": "code",
      "metadata": {
        "id": "aU_DutPrOFWd",
        "colab_type": "code",
        "outputId": "4bb09705-ed88-44d1-84b2-2e005ca83279",
        "colab": {
          "base_uri": "https://localhost:8080/",
          "height": 306
        }
      },
      "source": [
        "train.head()"
      ],
      "execution_count": 107,
      "outputs": [
        {
          "output_type": "execute_result",
          "data": {
            "text/html": [
              "<div>\n",
              "<style scoped>\n",
              "    .dataframe tbody tr th:only-of-type {\n",
              "        vertical-align: middle;\n",
              "    }\n",
              "\n",
              "    .dataframe tbody tr th {\n",
              "        vertical-align: top;\n",
              "    }\n",
              "\n",
              "    .dataframe thead th {\n",
              "        text-align: right;\n",
              "    }\n",
              "</style>\n",
              "<table border=\"1\" class=\"dataframe\">\n",
              "  <thead>\n",
              "    <tr style=\"text-align: right;\">\n",
              "      <th></th>\n",
              "      <th>Timestamp</th>\n",
              "      <th>Suction Pressure (psig)</th>\n",
              "      <th>Suction Temperature (F)</th>\n",
              "      <th>Total Flow (gpm)</th>\n",
              "      <th>Speed (rpm)</th>\n",
              "      <th>By-pass Valve Position (%)</th>\n",
              "      <th>Discharge Pressure (psig)</th>\n",
              "      <th>Discharge Temperature (F)</th>\n",
              "      <th>month</th>\n",
              "      <th>date</th>\n",
              "      <th>hour</th>\n",
              "      <th>minute</th>\n",
              "    </tr>\n",
              "  </thead>\n",
              "  <tbody>\n",
              "    <tr>\n",
              "      <th>0</th>\n",
              "      <td>2020-04-01 21:20:00</td>\n",
              "      <td>596.100853</td>\n",
              "      <td>-229.436683</td>\n",
              "      <td>7925.800487</td>\n",
              "      <td>2999.411045</td>\n",
              "      <td>6.0</td>\n",
              "      <td>226.044931</td>\n",
              "      <td>-227.614448</td>\n",
              "      <td>4</td>\n",
              "      <td>1</td>\n",
              "      <td>21</td>\n",
              "      <td>20</td>\n",
              "    </tr>\n",
              "    <tr>\n",
              "      <th>1</th>\n",
              "      <td>2020-04-01 21:20:00</td>\n",
              "      <td>596.838217</td>\n",
              "      <td>-230.453708</td>\n",
              "      <td>8085.917724</td>\n",
              "      <td>2989.706617</td>\n",
              "      <td>6.0</td>\n",
              "      <td>217.150974</td>\n",
              "      <td>-228.668636</td>\n",
              "      <td>4</td>\n",
              "      <td>1</td>\n",
              "      <td>21</td>\n",
              "      <td>20</td>\n",
              "    </tr>\n",
              "    <tr>\n",
              "      <th>2</th>\n",
              "      <td>2020-04-01 21:20:00</td>\n",
              "      <td>596.468895</td>\n",
              "      <td>-229.545356</td>\n",
              "      <td>7902.175243</td>\n",
              "      <td>3006.331679</td>\n",
              "      <td>6.0</td>\n",
              "      <td>226.054086</td>\n",
              "      <td>-227.755324</td>\n",
              "      <td>4</td>\n",
              "      <td>1</td>\n",
              "      <td>21</td>\n",
              "      <td>20</td>\n",
              "    </tr>\n",
              "    <tr>\n",
              "      <th>3</th>\n",
              "      <td>2020-04-01 21:20:00</td>\n",
              "      <td>603.568271</td>\n",
              "      <td>-230.309438</td>\n",
              "      <td>7991.808959</td>\n",
              "      <td>3010.487486</td>\n",
              "      <td>6.0</td>\n",
              "      <td>226.016182</td>\n",
              "      <td>-228.489113</td>\n",
              "      <td>4</td>\n",
              "      <td>1</td>\n",
              "      <td>21</td>\n",
              "      <td>20</td>\n",
              "    </tr>\n",
              "    <tr>\n",
              "      <th>4</th>\n",
              "      <td>2020-04-01 21:21:00</td>\n",
              "      <td>595.407372</td>\n",
              "      <td>-229.767969</td>\n",
              "      <td>7871.560747</td>\n",
              "      <td>2986.665518</td>\n",
              "      <td>6.0</td>\n",
              "      <td>227.769383</td>\n",
              "      <td>-227.971795</td>\n",
              "      <td>4</td>\n",
              "      <td>1</td>\n",
              "      <td>21</td>\n",
              "      <td>21</td>\n",
              "    </tr>\n",
              "  </tbody>\n",
              "</table>\n",
              "</div>"
            ],
            "text/plain": [
              "            Timestamp  Suction Pressure (psig)  ...  hour  minute\n",
              "0 2020-04-01 21:20:00               596.100853  ...    21      20\n",
              "1 2020-04-01 21:20:00               596.838217  ...    21      20\n",
              "2 2020-04-01 21:20:00               596.468895  ...    21      20\n",
              "3 2020-04-01 21:20:00               603.568271  ...    21      20\n",
              "4 2020-04-01 21:21:00               595.407372  ...    21      21\n",
              "\n",
              "[5 rows x 12 columns]"
            ]
          },
          "metadata": {
            "tags": []
          },
          "execution_count": 107
        }
      ]
    },
    {
      "cell_type": "code",
      "metadata": {
        "id": "9sjIVZmlOPir",
        "colab_type": "code",
        "outputId": "18d722f7-25cc-435d-c08a-26458bbbbecd",
        "colab": {
          "base_uri": "https://localhost:8080/",
          "height": 296
        }
      },
      "source": [
        "sns.barplot(x= train[\"month\"], y= train['Discharge Pressure (psig)'], data = train)"
      ],
      "execution_count": 108,
      "outputs": [
        {
          "output_type": "execute_result",
          "data": {
            "text/plain": [
              "<matplotlib.axes._subplots.AxesSubplot at 0x7fa0c5df0748>"
            ]
          },
          "metadata": {
            "tags": []
          },
          "execution_count": 108
        },
        {
          "output_type": "display_data",
          "data": {
            "image/png": "[encoded data removed]",
            "text/plain": [
              "<Figure size 432x288 with 1 Axes>"
            ]
          },
          "metadata": {
            "tags": []
          }
        }
      ]
    },
    {
      "cell_type": "code",
      "metadata": {
        "id": "wTPXrjfiPMJB",
        "colab_type": "code",
        "outputId": "82f07067-6be3-4330-c9d7-78451658ca2f",
        "colab": {
          "base_uri": "https://localhost:8080/",
          "height": 296
        }
      },
      "source": [
        "sns.barplot(x= train[\"date\"], y= train['Discharge Pressure (psig)'], data = train)"
      ],
      "execution_count": 109,
      "outputs": [
        {
          "output_type": "execute_result",
          "data": {
            "text/plain": [
              "<matplotlib.axes._subplots.AxesSubplot at 0x7fa0c5ad0240>"
            ]
          },
          "metadata": {
            "tags": []
          },
          "execution_count": 109
        },
        {
          "output_type": "display_data",
          "data": {
            "image/png": "[encoded data removed]",
            "text/plain": [
              "<Figure size 432x288 with 1 Axes>"
            ]
          },
          "metadata": {
            "tags": []
          }
        }
      ]
    },
    {
      "cell_type": "code",
      "metadata": {
        "id": "ci604CYIQO_-",
        "colab_type": "code",
        "colab": {
          "base_uri": "https://localhost:8080/",
          "height": 300
        },
        "outputId": "9bd80055-a148-4026-9dc1-5c224b4da68c"
      },
      "source": [
        "sns.barplot(x= train[\"hour\"], y= train['Discharge Pressure (psig)'], data = train)"
      ],
      "execution_count": 110,
      "outputs": [
        {
          "output_type": "execute_result",
          "data": {
            "text/plain": [
              "<matplotlib.axes._subplots.AxesSubplot at 0x7fa0c59d7a58>"
            ]
          },
          "metadata": {
            "tags": []
          },
          "execution_count": 110
        },
        {
          "output_type": "display_data",
          "data": {
            "image/png": "[encoded data removed]",
            "text/plain": [
              "<Figure size 432x288 with 1 Axes>"
            ]
          },
          "metadata": {
            "tags": []
          }
        }
      ]
    },
    {
      "cell_type": "code",
      "metadata": {
        "id": "A44xky4WQQ5h",
        "colab_type": "code",
        "colab": {
          "base_uri": "https://localhost:8080/",
          "height": 296
        },
        "outputId": "b3e96316-b679-4f42-eadc-c7558e876c9d"
      },
      "source": [
        "sns.barplot(x= train[\"minute\"], y= train['Discharge Pressure (psig)'], data = train)"
      ],
      "execution_count": 111,
      "outputs": [
        {
          "output_type": "execute_result",
          "data": {
            "text/plain": [
              "<matplotlib.axes._subplots.AxesSubplot at 0x7fa0c59d7d68>"
            ]
          },
          "metadata": {
            "tags": []
          },
          "execution_count": 111
        },
        {
          "output_type": "display_data",
          "data": {
            "image/png": "[encoded data removed]",
            "text/plain": [
              "<Figure size 432x288 with 1 Axes>"
            ]
          },
          "metadata": {
            "tags": []
          }
        }
      ]
    },
    {
      "cell_type": "markdown",
      "metadata": {
        "id": "-qXWDLIWB_rl",
        "colab_type": "text"
      },
      "source": [
        "**Dropping variables after analyze**"
      ]
    },
    {
      "cell_type": "code",
      "metadata": {
        "id": "F9keZd6aQTNu",
        "colab_type": "code",
        "colab": {}
      },
      "source": [
        "train.drop([\"Timestamp\", \"hour\", \"minute\",\"date\", \"month\"], axis = 1, inplace= True)"
      ],
      "execution_count": 0,
      "outputs": []
    },
    {
      "cell_type": "code",
      "metadata": {
        "id": "5gVG_TpORciZ",
        "colab_type": "code",
        "colab": {
          "base_uri": "https://localhost:8080/",
          "height": 314
        },
        "outputId": "fa533a16-8f78-4a40-9547-aabb38dae7d5"
      },
      "source": [
        "train.describe()"
      ],
      "execution_count": 113,
      "outputs": [
        {
          "output_type": "execute_result",
          "data": {
            "text/html": [
              "<div>\n",
              "<style scoped>\n",
              "    .dataframe tbody tr th:only-of-type {\n",
              "        vertical-align: middle;\n",
              "    }\n",
              "\n",
              "    .dataframe tbody tr th {\n",
              "        vertical-align: top;\n",
              "    }\n",
              "\n",
              "    .dataframe thead th {\n",
              "        text-align: right;\n",
              "    }\n",
              "</style>\n",
              "<table border=\"1\" class=\"dataframe\">\n",
              "  <thead>\n",
              "    <tr style=\"text-align: right;\">\n",
              "      <th></th>\n",
              "      <th>Suction Pressure (psig)</th>\n",
              "      <th>Suction Temperature (F)</th>\n",
              "      <th>Total Flow (gpm)</th>\n",
              "      <th>Speed (rpm)</th>\n",
              "      <th>By-pass Valve Position (%)</th>\n",
              "      <th>Discharge Pressure (psig)</th>\n",
              "      <th>Discharge Temperature (F)</th>\n",
              "    </tr>\n",
              "  </thead>\n",
              "  <tbody>\n",
              "    <tr>\n",
              "      <th>count</th>\n",
              "      <td>296450.000000</td>\n",
              "      <td>296450.000000</td>\n",
              "      <td>296450.000000</td>\n",
              "      <td>296450.000000</td>\n",
              "      <td>296450.000000</td>\n",
              "      <td>296450.000000</td>\n",
              "      <td>296450.000000</td>\n",
              "    </tr>\n",
              "    <tr>\n",
              "      <th>mean</th>\n",
              "      <td>590.541350</td>\n",
              "      <td>-231.564934</td>\n",
              "      <td>8119.917777</td>\n",
              "      <td>2955.416695</td>\n",
              "      <td>2.005667</td>\n",
              "      <td>186.991087</td>\n",
              "      <td>-229.764934</td>\n",
              "    </tr>\n",
              "    <tr>\n",
              "      <th>std</th>\n",
              "      <td>23.216552</td>\n",
              "      <td>3.574107</td>\n",
              "      <td>398.049531</td>\n",
              "      <td>54.201467</td>\n",
              "      <td>2.488568</td>\n",
              "      <td>56.205183</td>\n",
              "      <td>3.574136</td>\n",
              "    </tr>\n",
              "    <tr>\n",
              "      <th>min</th>\n",
              "      <td>552.420048</td>\n",
              "      <td>-238.594971</td>\n",
              "      <td>7056.004500</td>\n",
              "      <td>2835.750571</td>\n",
              "      <td>-0.200000</td>\n",
              "      <td>69.983885</td>\n",
              "      <td>-236.816223</td>\n",
              "    </tr>\n",
              "    <tr>\n",
              "      <th>25%</th>\n",
              "      <td>572.757269</td>\n",
              "      <td>-234.171427</td>\n",
              "      <td>7916.322054</td>\n",
              "      <td>2906.336126</td>\n",
              "      <td>0.000000</td>\n",
              "      <td>143.468467</td>\n",
              "      <td>-232.371760</td>\n",
              "    </tr>\n",
              "    <tr>\n",
              "      <th>50%</th>\n",
              "      <td>586.491792</td>\n",
              "      <td>-230.922352</td>\n",
              "      <td>8144.161813</td>\n",
              "      <td>2961.788792</td>\n",
              "      <td>0.000000</td>\n",
              "      <td>183.270451</td>\n",
              "      <td>-229.122946</td>\n",
              "    </tr>\n",
              "    <tr>\n",
              "      <th>75%</th>\n",
              "      <td>605.986608</td>\n",
              "      <td>-229.585168</td>\n",
              "      <td>8388.610374</td>\n",
              "      <td>3000.863611</td>\n",
              "      <td>4.000000</td>\n",
              "      <td>223.580205</td>\n",
              "      <td>-227.785796</td>\n",
              "    </tr>\n",
              "    <tr>\n",
              "      <th>max</th>\n",
              "      <td>649.217417</td>\n",
              "      <td>-223.440125</td>\n",
              "      <td>8975.986378</td>\n",
              "      <td>3090.367995</td>\n",
              "      <td>8.026667</td>\n",
              "      <td>324.411576</td>\n",
              "      <td>-221.617102</td>\n",
              "    </tr>\n",
              "  </tbody>\n",
              "</table>\n",
              "</div>"
            ],
            "text/plain": [
              "       Suction Pressure (psig)  ...  Discharge Temperature (F)\n",
              "count            296450.000000  ...              296450.000000\n",
              "mean                590.541350  ...                -229.764934\n",
              "std                  23.216552  ...                   3.574136\n",
              "min                 552.420048  ...                -236.816223\n",
              "25%                 572.757269  ...                -232.371760\n",
              "50%                 586.491792  ...                -229.122946\n",
              "75%                 605.986608  ...                -227.785796\n",
              "max                 649.217417  ...                -221.617102\n",
              "\n",
              "[8 rows x 7 columns]"
            ]
          },
          "metadata": {
            "tags": []
          },
          "execution_count": 113
        }
      ]
    },
    {
      "cell_type": "markdown",
      "metadata": {
        "id": "qUlNysq8AtVN",
        "colab_type": "text"
      },
      "source": [
        "**Normalisation**"
      ]
    },
    {
      "cell_type": "code",
      "metadata": {
        "id": "avc3Js2SYRlu",
        "colab_type": "code",
        "colab": {
          "base_uri": "https://localhost:8080/",
          "height": 119
        },
        "outputId": "f060b276-78d0-4649-ea87-775424171c88"
      },
      "source": [
        "c_names = [\"Suction Pressure (psig)\",\t\"Suction Temperature (F)\",\t\"Total Flow (gpm)\",\t\"Speed (rpm)\",\t\"By-pass Valve Position (%)\",\t\"Discharge Temperature (F)\"]\n",
        "for i in c_names:\n",
        "  print (i)\n",
        "  train[i]= (train[i] - train[i].min())/(train[i].max() - train[i].min())"
      ],
      "execution_count": 114,
      "outputs": [
        {
          "output_type": "stream",
          "text": [
            "Suction Pressure (psig)\n",
            "Suction Temperature (F)\n",
            "Total Flow (gpm)\n",
            "Speed (rpm)\n",
            "By-pass Valve Position (%)\n",
            "Discharge Temperature (F)\n"
          ],
          "name": "stdout"
        }
      ]
    },
    {
      "cell_type": "code",
      "metadata": {
        "id": "_UV1jr49J_XT",
        "colab_type": "code",
        "colab": {}
      },
      "source": [
        "X = train.drop('Discharge Pressure (psig)',axis=1).values\n",
        "Y = train['Discharge Pressure (psig)'].values"
      ],
      "execution_count": 0,
      "outputs": []
    },
    {
      "cell_type": "code",
      "metadata": {
        "id": "vZEd6fsMJ-Lw",
        "colab_type": "code",
        "colab": {
          "base_uri": "https://localhost:8080/",
          "height": 204
        },
        "outputId": "2ca46017-9623-4aaf-8b96-b38368ac6dc3"
      },
      "source": [
        "inp_df = pd.DataFrame(X, columns=c_names)\n",
        "inp_df.head()"
      ],
      "execution_count": 116,
      "outputs": [
        {
          "output_type": "execute_result",
          "data": {
            "text/html": [
              "<div>\n",
              "<style scoped>\n",
              "    .dataframe tbody tr th:only-of-type {\n",
              "        vertical-align: middle;\n",
              "    }\n",
              "\n",
              "    .dataframe tbody tr th {\n",
              "        vertical-align: top;\n",
              "    }\n",
              "\n",
              "    .dataframe thead th {\n",
              "        text-align: right;\n",
              "    }\n",
              "</style>\n",
              "<table border=\"1\" class=\"dataframe\">\n",
              "  <thead>\n",
              "    <tr style=\"text-align: right;\">\n",
              "      <th></th>\n",
              "      <th>Suction Pressure (psig)</th>\n",
              "      <th>Suction Temperature (F)</th>\n",
              "      <th>Total Flow (gpm)</th>\n",
              "      <th>Speed (rpm)</th>\n",
              "      <th>By-pass Valve Position (%)</th>\n",
              "      <th>Discharge Temperature (F)</th>\n",
              "    </tr>\n",
              "  </thead>\n",
              "  <tbody>\n",
              "    <tr>\n",
              "      <th>0</th>\n",
              "      <td>0.451260</td>\n",
              "      <td>0.604314</td>\n",
              "      <td>0.453023</td>\n",
              "      <td>0.642770</td>\n",
              "      <td>0.753647</td>\n",
              "      <td>0.605415</td>\n",
              "    </tr>\n",
              "    <tr>\n",
              "      <th>1</th>\n",
              "      <td>0.458878</td>\n",
              "      <td>0.537205</td>\n",
              "      <td>0.536418</td>\n",
              "      <td>0.604656</td>\n",
              "      <td>0.753647</td>\n",
              "      <td>0.536056</td>\n",
              "    </tr>\n",
              "    <tr>\n",
              "      <th>2</th>\n",
              "      <td>0.455062</td>\n",
              "      <td>0.597143</td>\n",
              "      <td>0.440718</td>\n",
              "      <td>0.669951</td>\n",
              "      <td>0.753647</td>\n",
              "      <td>0.596146</td>\n",
              "    </tr>\n",
              "    <tr>\n",
              "      <th>3</th>\n",
              "      <td>0.528405</td>\n",
              "      <td>0.546725</td>\n",
              "      <td>0.487403</td>\n",
              "      <td>0.686272</td>\n",
              "      <td>0.753647</td>\n",
              "      <td>0.547868</td>\n",
              "    </tr>\n",
              "    <tr>\n",
              "      <th>4</th>\n",
              "      <td>0.444096</td>\n",
              "      <td>0.582454</td>\n",
              "      <td>0.424773</td>\n",
              "      <td>0.592713</td>\n",
              "      <td>0.753647</td>\n",
              "      <td>0.581904</td>\n",
              "    </tr>\n",
              "  </tbody>\n",
              "</table>\n",
              "</div>"
            ],
            "text/plain": [
              "   Suction Pressure (psig)  ...  Discharge Temperature (F)\n",
              "0                 0.451260  ...                   0.605415\n",
              "1                 0.458878  ...                   0.536056\n",
              "2                 0.455062  ...                   0.596146\n",
              "3                 0.528405  ...                   0.547868\n",
              "4                 0.444096  ...                   0.581904\n",
              "\n",
              "[5 rows x 6 columns]"
            ]
          },
          "metadata": {
            "tags": []
          },
          "execution_count": 116
        }
      ]
    },
    {
      "cell_type": "markdown",
      "metadata": {
        "id": "4umXxSqNA5D0",
        "colab_type": "text"
      },
      "source": [
        "**Feature Selection using VIF and Correlation analysis**"
      ]
    },
    {
      "cell_type": "code",
      "metadata": {
        "id": "sK6acO52LXGh",
        "colab_type": "code",
        "colab": {
          "base_uri": "https://localhost:8080/",
          "height": 323
        },
        "outputId": "07cc3599-8266-409b-8908-54b94b55fd41"
      },
      "source": [
        "import statsmodels.api as sm\n",
        "for i in range(0, len(c_names)):\n",
        "    y = inp_df.loc[:, inp_df.columns == c_names[i]]\n",
        "    x = inp_df.loc[:, inp_df.columns != c_names[i]]\n",
        "    model = sm.OLS(y, x)\n",
        "    results = model.fit()\n",
        "    rsq = results.rsquared\n",
        "    vif = round(1 / (1 - rsq), 2)\n",
        "    print(\n",
        "        \"R Square value of {} column is {} keeping all other columns as features\".format(\n",
        "            c_names[i], (round(rsq, 2))\n",
        "        )\n",
        "    )\n",
        "    print(\n",
        "        \"Variance Inflation Factor of {} column is {} \\n\".format(\n",
        "            c_names[i], vif)\n",
        "        )"
      ],
      "execution_count": 117,
      "outputs": [
        {
          "output_type": "stream",
          "text": [
            "R Square value of Suction Pressure (psig) column is 0.96 keeping all other columns as features\n",
            "Variance Inflation Factor of Suction Pressure (psig) column is 23.71 \n",
            "\n",
            "R Square value of Suction Temperature (F) column is 1.0 keeping all other columns as features\n",
            "Variance Inflation Factor of Suction Temperature (F) column is 348796.75 \n",
            "\n",
            "R Square value of Total Flow (gpm) column is 0.9 keeping all other columns as features\n",
            "Variance Inflation Factor of Total Flow (gpm) column is 10.13 \n",
            "\n",
            "R Square value of Speed (rpm) column is 0.91 keeping all other columns as features\n",
            "Variance Inflation Factor of Speed (rpm) column is 11.39 \n",
            "\n",
            "R Square value of By-pass Valve Position (%) column is 0.73 keeping all other columns as features\n",
            "Variance Inflation Factor of By-pass Valve Position (%) column is 3.68 \n",
            "\n",
            "R Square value of Discharge Temperature (F) column is 1.0 keeping all other columns as features\n",
            "Variance Inflation Factor of Discharge Temperature (F) column is 349700.14 \n",
            "\n"
          ],
          "name": "stdout"
        }
      ]
    },
    {
      "cell_type": "code",
      "metadata": {
        "id": "Qwkuj2pvMmLy",
        "colab_type": "code",
        "colab": {
          "base_uri": "https://localhost:8080/",
          "height": 272
        },
        "outputId": "29880699-a387-4900-e92a-4027bea4d819"
      },
      "source": [
        "c_names = [\"Suction Pressure (psig)\", \"Total Flow (gpm)\",\t\"By-pass Valve Position (%)\", \"By-pass Valve Position (%)\", \"Speed (rpm)\"]\n",
        "for i in range(0, len(c_names)):\n",
        "    y = inp_df.loc[:, inp_df.columns == c_names[i]]\n",
        "    x = inp_df.loc[:, inp_df.columns != c_names[i]]\n",
        "    model = sm.OLS(y, x)\n",
        "    results = model.fit()\n",
        "    rsq = results.rsquared\n",
        "    vif = round(1 / (1 - rsq), 2)\n",
        "    print(\n",
        "        \"R Square value of {} column is {} keeping all other columns as features\".format(\n",
        "            c_names[i], (round(rsq, 2))\n",
        "        )\n",
        "    )\n",
        "    print(\n",
        "        \"Variance Inflation Factor of {} column is {} \\n\".format(\n",
        "            c_names[i], vif)\n",
        "        )"
      ],
      "execution_count": 118,
      "outputs": [
        {
          "output_type": "stream",
          "text": [
            "R Square value of Suction Pressure (psig) column is 0.96 keeping all other columns as features\n",
            "Variance Inflation Factor of Suction Pressure (psig) column is 23.71 \n",
            "\n",
            "R Square value of Total Flow (gpm) column is 0.9 keeping all other columns as features\n",
            "Variance Inflation Factor of Total Flow (gpm) column is 10.13 \n",
            "\n",
            "R Square value of By-pass Valve Position (%) column is 0.73 keeping all other columns as features\n",
            "Variance Inflation Factor of By-pass Valve Position (%) column is 3.68 \n",
            "\n",
            "R Square value of By-pass Valve Position (%) column is 0.73 keeping all other columns as features\n",
            "Variance Inflation Factor of By-pass Valve Position (%) column is 3.68 \n",
            "\n",
            "R Square value of Speed (rpm) column is 0.91 keeping all other columns as features\n",
            "Variance Inflation Factor of Speed (rpm) column is 11.39 \n",
            "\n"
          ],
          "name": "stdout"
        }
      ]
    },
    {
      "cell_type": "code",
      "metadata": {
        "id": "feRzUlRQRjOR",
        "colab_type": "code",
        "colab": {
          "base_uri": "https://localhost:8080/",
          "height": 221
        },
        "outputId": "80ba2d19-65e8-44fe-ad81-6dbbca60c4e0"
      },
      "source": [
        "c_names = [\"Total Flow (gpm)\",\t\"By-pass Valve Position (%)\", \"By-pass Valve Position (%)\", \"Speed (rpm)\"]\n",
        "for i in range(0, len(c_names)):\n",
        "    y = inp_df.loc[:, inp_df.columns == c_names[i]]\n",
        "    x = inp_df.loc[:, inp_df.columns != c_names[i]]\n",
        "    model = sm.OLS(y, x)\n",
        "    results = model.fit()\n",
        "    rsq = results.rsquared\n",
        "    vif = round(1 / (1 - rsq), 2)\n",
        "    print(\n",
        "        \"R Square value of {} column is {} keeping all other columns as features\".format(\n",
        "            c_names[i], (round(rsq, 2))\n",
        "        )\n",
        "    )\n",
        "    print(\n",
        "        \"Variance Inflation Factor of {} column is {} \\n\".format(\n",
        "            c_names[i], vif)\n",
        "        )"
      ],
      "execution_count": 119,
      "outputs": [
        {
          "output_type": "stream",
          "text": [
            "R Square value of Total Flow (gpm) column is 0.9 keeping all other columns as features\n",
            "Variance Inflation Factor of Total Flow (gpm) column is 10.13 \n",
            "\n",
            "R Square value of By-pass Valve Position (%) column is 0.73 keeping all other columns as features\n",
            "Variance Inflation Factor of By-pass Valve Position (%) column is 3.68 \n",
            "\n",
            "R Square value of By-pass Valve Position (%) column is 0.73 keeping all other columns as features\n",
            "Variance Inflation Factor of By-pass Valve Position (%) column is 3.68 \n",
            "\n",
            "R Square value of Speed (rpm) column is 0.91 keeping all other columns as features\n",
            "Variance Inflation Factor of Speed (rpm) column is 11.39 \n",
            "\n"
          ],
          "name": "stdout"
        }
      ]
    },
    {
      "cell_type": "code",
      "metadata": {
        "id": "q-18_uokZAcp",
        "colab_type": "code",
        "colab": {
          "base_uri": "https://localhost:8080/",
          "height": 460
        },
        "outputId": "df3e6cd4-155c-48b1-8cee-a4e54be26241"
      },
      "source": [
        "cnames = [\"Discharge Pressure (psig)\", \"Total Flow (gpm)\", \"Speed (rpm)\",\t\"By-pass Valve Position (%)\"] \n",
        "df_corr = train.loc[:,cnames]\n",
        "f , ax = plt.subplots(figsize = (10, 5))\n",
        "corr = df_corr.corr()\n",
        "sns.heatmap(corr, mask=np.zeros_like(corr, dtype=np.bool), cmap=sns.diverging_palette(220, 10, as_cmap=True),\n",
        "            square=True, ax=ax,annot=True)"
      ],
      "execution_count": 120,
      "outputs": [
        {
          "output_type": "execute_result",
          "data": {
            "text/plain": [
              "<matplotlib.axes._subplots.AxesSubplot at 0x7fa0c59d7c50>"
            ]
          },
          "metadata": {
            "tags": []
          },
          "execution_count": 120
        },
        {
          "output_type": "display_data",
          "data": {
            "image/png": "[encoded data removed]",
            "text/plain": [
              "<Figure size 720x360 with 2 Axes>"
            ]
          },
          "metadata": {
            "tags": []
          }
        }
      ]
    },
    {
      "cell_type": "code",
      "metadata": {
        "id": "bH7vJwaTU0x5",
        "colab_type": "code",
        "colab": {}
      },
      "source": [
        "train =df_corr"
      ],
      "execution_count": 0,
      "outputs": []
    },
    {
      "cell_type": "markdown",
      "metadata": {
        "id": "whWnXGzeBH_L",
        "colab_type": "text"
      },
      "source": [
        "**Splitting into test and train data**"
      ]
    },
    {
      "cell_type": "code",
      "metadata": {
        "id": "XPE4xaK9S8Lr",
        "colab_type": "code",
        "colab": {
          "base_uri": "https://localhost:8080/",
          "height": 34
        },
        "outputId": "c06317ae-26e2-418d-9867-6ed4bba49ff5"
      },
      "source": [
        "from sklearn.model_selection import train_test_split\n",
        "X = train.drop('Discharge Pressure (psig)',axis=1).values\n",
        "y = train['Discharge Pressure (psig)'].values\n",
        "X_train, X_test, y_train, y_test = train_test_split(X, y, test_size = 0.30, random_state=69)\n",
        "print(train.shape, X_train.shape, X_test.shape,y_train.shape,y_test.shape)"
      ],
      "execution_count": 122,
      "outputs": [
        {
          "output_type": "stream",
          "text": [
            "(296450, 4) (207515, 3) (88935, 3) (207515,) (88935,)\n"
          ],
          "name": "stdout"
        }
      ]
    },
    {
      "cell_type": "markdown",
      "metadata": {
        "id": "59vVpIpQBSay",
        "colab_type": "text"
      },
      "source": [
        "**Building different models**"
      ]
    },
    {
      "cell_type": "code",
      "metadata": {
        "id": "AULT1TdMWrbQ",
        "colab_type": "code",
        "colab": {
          "base_uri": "https://localhost:8080/",
          "height": 51
        },
        "outputId": "3b78b249-dd42-4215-9c14-4c6c734002fd"
      },
      "source": [
        "# Building LinearRegression Model on training Data\n",
        "lm = LinearRegression()\n",
        "lm.fit(X_train,y_train)\n",
        "#lets print the intercept \n",
        "print(\"LM Intercept : \", lm.intercept_)\n",
        "predictions_LR =lm.predict(X_test)\n",
        "RMSE_LR = np.sqrt(metrics.mean_squared_error(y_test,predictions_LR))\n",
        "r2_LR = metrics.r2_score(y_test,predictions_LR)\n",
        "MAE_LR = metrics.mean_absolute_error(y_test,predictions_LR)\n",
        "def MAPE(y_true,y_pred):\n",
        "    mape = np.mean(np.abs((y_true-y_pred)/y_true))\n",
        "    return mape\n",
        "MAPE_LR = MAPE(y_test,predictions_LR)\n",
        "LR_Results = {'RMSE_LR':RMSE_LR,'r2_LR':r2_LR,'MAE_LR':MAE_LR,'MAPE_LR':MAPE_LR}\n",
        "print(LR_Results)"
      ],
      "execution_count": 123,
      "outputs": [
        {
          "output_type": "stream",
          "text": [
            "LM Intercept :  320.3868979314372\n",
            "{'RMSE_LR': 10.22527008702024, 'r2_LR': 0.9668727102182978, 'MAE_LR': 8.098275786674519, 'MAPE_LR': 0.04568845111957758}\n"
          ],
          "name": "stdout"
        }
      ]
    },
    {
      "cell_type": "code",
      "metadata": {
        "id": "pUkwg8hWXR6M",
        "colab_type": "code",
        "colab": {
          "base_uri": "https://localhost:8080/",
          "height": 34
        },
        "outputId": "6a27964f-3f34-47d3-9e1b-85a15a050725"
      },
      "source": [
        "# Building Decision Tree Model on training Data\n",
        "fit_DT  = DecisionTreeRegressor(max_depth = 4).fit(X_train, y_train)\n",
        "# Apply model on splitted test data\n",
        "predictions_DT = fit_DT.predict(X_test)\n",
        "MAE_DT = metrics.mean_absolute_error(y_test,predictions_DT)\n",
        "RMSE_DT = np.sqrt(metrics.mean_squared_error(y_test,predictions_DT))\n",
        "r2_DT = metrics.r2_score(y_test,predictions_DT)\n",
        "MAE_DT = metrics.mean_absolute_error(y_test,predictions_DT)\n",
        "MAPE_DT = MAPE(y_test,predictions_DT)\n",
        "DT_Results = {'RMSE_DT':RMSE_DT,'r2_DT':r2_DT,'MAE_DT':MAE_DT,'MAPE_DT':MAPE_DT}\n",
        "print(DT_Results)"
      ],
      "execution_count": 124,
      "outputs": [
        {
          "output_type": "stream",
          "text": [
            "{'RMSE_DT': 9.338447184369738, 'r2_DT': 0.9723696959387982, 'MAE_DT': 7.070639457241193, 'MAPE_DT': 0.0402757201980507}\n"
          ],
          "name": "stdout"
        }
      ]
    },
    {
      "cell_type": "markdown",
      "metadata": {
        "id": "23OlMtyfaTms",
        "colab_type": "text"
      },
      "source": [
        "# **Finalized Model**"
      ]
    },
    {
      "cell_type": "code",
      "metadata": {
        "id": "9ni8BJ-YXUzF",
        "colab_type": "code",
        "colab": {}
      },
      "source": [
        "# Building Random Forest Model on training data\n",
        "RFModel = RandomForestRegressor(n_estimators = 200).fit(X_train, y_train)\n",
        "# Apply model on splitting test data\n",
        "predictions_RF = RFModel.predict(X_test)\n",
        "RMSE_RF = np.sqrt(metrics.mean_squared_error(y_test,predictions_RF))\n",
        "r2_RF = metrics.r2_score(y_test,predictions_RF)\n",
        "MAE_RF = metrics.mean_absolute_error(y_test,predictions_RF)\n",
        "MAPE_RF = MAPE(y_test,predictions_RF) \n",
        "RF_Results = {'RMSE_RF':RMSE_RF,'r2_RF':r2_RF,'MAE_RF':MAE_RF,'MAPE_RF':MAPE_RF}\n",
        "print(RF_Results)"
      ],
      "execution_count": 0,
      "outputs": []
    },
    {
      "cell_type": "code",
      "metadata": {
        "id": "MiqVy3dyYDLp",
        "colab_type": "code",
        "colab": {}
      },
      "source": [
        "## Error Metrics for All the above 3 models\n",
        "Error_Metrics = {'RMSE':[RMSE_LR,RMSE_DT,RMSE_RF],\n",
        "                  'r2':[r2_LR,r2_DT,r2_RF],\n",
        "                     'MAE':[MAE_LR,MAE_DT,MAE_RF],\n",
        "                   'MAPE':[MAPE_LR,MAPE_DT,MAPE_RF]}\n",
        "                 \n",
        "\n",
        "metrics_result =pd.DataFrame(Error_Metrics,index = ['Linear Regression', 'Decision Tree', 'Random Forest']) \n",
        "\n",
        "print(metrics_result)"
      ],
      "execution_count": 0,
      "outputs": []
    }
  ]
}